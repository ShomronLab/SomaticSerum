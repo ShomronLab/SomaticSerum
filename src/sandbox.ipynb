{
 "cells": [
  {
   "cell_type": "code",
   "execution_count": 1,
   "id": "bb21c20c",
   "metadata": {},
   "outputs": [],
   "source": [
    "##### base\n",
    "import pandas as pd\n",
    "import numpy as np\n",
    "import matplotlib.pyplot as plt\n",
    "# import seaborn as sns\n",
    "import os\n",
    "\n",
    "# matplotlib\n",
    "%matplotlib inline\n",
    "\n",
    "# display\n",
    "from IPython.display import display\n",
    "\n",
    "# autoreload\n",
    "%load_ext autoreload\n",
    "%autoreload 2\n",
    "\n",
    "# warnings\n",
    "import warnings\n",
    "warnings.filterwarnings('ignore')\n",
    "\n",
    "# fix random seed\n",
    "from numpy.random import seed as set_random_seed\n",
    "set_random_seed(42)\n",
    "\n",
    "# explainability\n",
    "# import shap, lime #eli5\n",
    "# shap.initjs()\n",
    "\n",
    "# debug\n",
    "# from icecream import ic\n",
    "# debug = ic\n",
    "import logging\n",
    "logg = logging.info"
   ]
  },
  {
   "cell_type": "code",
   "execution_count": 2,
   "id": "de1961f5",
   "metadata": {},
   "outputs": [],
   "source": [
    "import os, sys, re\n",
    "import argparse\n",
    "import time\n",
    "import random\n",
    "import logging\n",
    "\n",
    "from dataclasses import dataclass\n",
    "\n",
    "import matplotlib.pyplot as plt\n",
    "import numpy as np\n",
    "import pandas as pd\n",
    "from sklearn.metrics import confusion_matrix\n",
    "from torch._C import device\n",
    "from torch.utils.data import DataLoader\n",
    "import torch\n",
    "\n",
    "from modules.train import train\n",
    "from modules.test import test\n",
    "from modules.loader import CustomBamDataset2\n",
    "import utils.utils as util\n",
    "from utils.utils import Parms"
   ]
  },
  {
   "cell_type": "code",
   "execution_count": 39,
   "id": "7a7406ab",
   "metadata": {},
   "outputs": [
    {
     "name": "stderr",
     "output_type": "stream",
     "text": [
      "root        : INFO     Logger initialized\n",
      "root        : INFO     Logger initialized\n"
     ]
    }
   ],
   "source": [
    "parser = argparse.ArgumentParser()\n",
    "\n",
    "params = {\n",
    "    'sample_split': True,\n",
    "    'model' : 'SimpleCnn',\n",
    "    'hidden_size' : 64,\n",
    "    'sequence_length' : 200,\n",
    "    'batch_size' : 512,\n",
    "    'learning_rate' : 0.00001,\n",
    "    'max_epoch' : 100,\n",
    "    'lstm_layers' : 10,\n",
    "    'dropout' : 0.5,\n",
    "    'out' : 'output',\n",
    "    'test' : 'Test directory',\n",
    "    'training_bam_dir' : '../data/sample', # ['../data/sample', '../data/seqmerge/DLbams_rand']\n",
    "    'sample_split' : True,\n",
    "    'model' : \"metaSimpleDense\",\n",
    "    'hidden_size' : 64,\n",
    "    'batch_size' : 32,\n",
    "    'learning_rate' : 0.001,\n",
    "    'max_epoch' : 20,\n",
    "    'dropout' : 0.005,\n",
    "    'num_workers' : 1\n",
    "}\n",
    "\n",
    "args = parser.parse_known_args()[0]\n",
    "args.__dict__.update(params)\n",
    "parms = Parms(\n",
    "    args\n",
    ")"
   ]
  },
  {
   "cell_type": "code",
   "execution_count": 4,
   "id": "5e9dc897",
   "metadata": {
    "scrolled": true
   },
   "outputs": [
    {
     "name": "stderr",
     "output_type": "stream",
     "text": [
      "root        : INFO     Dataloading train\n",
      "root        : INFO     Longest read: 683\n",
      "root        : INFO     Loading reads from: somatic_reads.LUAD02.SNVs.srt.bam \t\tbam file number 0\n",
      "root        : INFO     Loading reads from: normal_reads.LUAD02.SNVs.srt.bam \t\tbam file number 1\n",
      "root        : INFO     Number of Normal reads: 2389, Number of Somatic reads: 2621. Ratio: 0.911\n"
     ]
    }
   ],
   "source": [
    "from modules.loader import CustomBamDataset2\n",
    "full_train_dataset  = CustomBamDataset2(parms.BAM_DIR, out = parms.OUT, whichSet = 'train', force = True)\n",
    "train_size          = int(parms.TRAIN_VALIDATION_SPLIT * len(full_train_dataset))\n",
    "val_size            = len(full_train_dataset) - train_size\n",
    "train_dataset, valid_dataset = torch.utils.data.random_split(full_train_dataset, [train_size, val_size])"
   ]
  },
  {
   "cell_type": "code",
   "execution_count": 5,
   "id": "aa7b4f1f",
   "metadata": {},
   "outputs": [],
   "source": [
    "train_dataloader = DataLoader(train_dataset, batch_size = parms.BATCH_SIZE, shuffle = True, num_workers = parms.NUM_WORKERS)\n",
    "valid_dataloader = DataLoader(valid_dataset, batch_size = parms.BATCH_SIZE, shuffle = True, num_workers = parms.NUM_WORKERS)"
   ]
  },
  {
   "cell_type": "code",
   "execution_count": 6,
   "id": "6fcf47b5",
   "metadata": {},
   "outputs": [
    {
     "data": {
      "text/plain": [
       "((4008, 3, 200), (4008, 12), (4008,))"
      ]
     },
     "execution_count": 6,
     "metadata": {},
     "output_type": "execute_result"
    }
   ],
   "source": [
    "def torch_ds_to_numpy(ds):\n",
    "    sample_dataloader = DataLoader(ds, batch_size = len(ds), shuffle = True, num_workers = 1)\n",
    "    for batch in sample_dataloader:\n",
    "        break\n",
    "    return [df.numpy() for df in batch]\n",
    "\n",
    "x_dna, x_att, y = torch_ds_to_numpy(train_dataset)\n",
    "x_dna.shape, x_att.shape, y.shape"
   ]
  },
  {
   "cell_type": "code",
   "execution_count": null,
   "id": "ffbf6e3f",
   "metadata": {},
   "outputs": [],
   "source": []
  },
  {
   "cell_type": "code",
   "execution_count": 8,
   "id": "720d1dbe",
   "metadata": {},
   "outputs": [
    {
     "ename": "NameError",
     "evalue": "name 'history' is not defined",
     "output_type": "error",
     "traceback": [
      "\u001b[0;31m---------------------------------------------------------------------------\u001b[0m",
      "\u001b[0;31mNameError\u001b[0m                                 Traceback (most recent call last)",
      "Input \u001b[0;32mIn [8]\u001b[0m, in \u001b[0;36m<cell line: 1>\u001b[0;34m()\u001b[0m\n\u001b[0;32m----> 1\u001b[0m acc \u001b[38;5;241m=\u001b[39m \u001b[43mhistory\u001b[49m[\u001b[38;5;124m'\u001b[39m\u001b[38;5;124macc\u001b[39m\u001b[38;5;124m'\u001b[39m]\n\u001b[1;32m      2\u001b[0m val_acc \u001b[38;5;241m=\u001b[39m history[\u001b[38;5;124m'\u001b[39m\u001b[38;5;124mval_acc\u001b[39m\u001b[38;5;124m'\u001b[39m]\n\u001b[1;32m      3\u001b[0m loss \u001b[38;5;241m=\u001b[39m history[\u001b[38;5;124m'\u001b[39m\u001b[38;5;124mloss\u001b[39m\u001b[38;5;124m'\u001b[39m]\n",
      "\u001b[0;31mNameError\u001b[0m: name 'history' is not defined"
     ]
    }
   ],
   "source": [
    "acc = history['acc']\n",
    "val_acc = history['val_acc']\n",
    "loss = history['loss']\n",
    "val_loss = history['val_loss']\n",
    "epochs = range(1, len(acc) + 1)"
   ]
  },
  {
   "cell_type": "code",
   "execution_count": null,
   "id": "cb560712",
   "metadata": {
    "scrolled": true
   },
   "outputs": [],
   "source": [
    "plt.plot(epochs, val_acc)\n",
    "plt.plot(epochs, acc)"
   ]
  },
  {
   "cell_type": "code",
   "execution_count": 9,
   "id": "d24c795b",
   "metadata": {},
   "outputs": [
    {
     "ename": "NameError",
     "evalue": "name 'nucleotide_model' is not defined",
     "output_type": "error",
     "traceback": [
      "\u001b[0;31m---------------------------------------------------------------------------\u001b[0m",
      "\u001b[0;31mNameError\u001b[0m                                 Traceback (most recent call last)",
      "Input \u001b[0;32mIn [9]\u001b[0m, in \u001b[0;36m<cell line: 1>\u001b[0;34m()\u001b[0m\n\u001b[0;32m----> 1\u001b[0m \u001b[43mnucleotide_model\u001b[49m\u001b[38;5;241m.\u001b[39mforward(torch\u001b[38;5;241m.\u001b[39mTensor(x_dna[[\u001b[38;5;241m5\u001b[39m],:]), torch\u001b[38;5;241m.\u001b[39mTensor(x_att[[\u001b[38;5;241m5\u001b[39m],:]))[\u001b[38;5;241m0\u001b[39m][\u001b[38;5;241m0\u001b[39m]\u001b[38;5;241m.\u001b[39mdetach()\u001b[38;5;241m.\u001b[39mnumpy()\n",
      "\u001b[0;31mNameError\u001b[0m: name 'nucleotide_model' is not defined"
     ]
    }
   ],
   "source": [
    "nucleotide_model.forward(torch.Tensor(x_dna[[5],:]), torch.Tensor(x_att[[5],:]))[0][0].detach().numpy()"
   ]
  },
  {
   "cell_type": "code",
   "execution_count": null,
   "id": "352f872f",
   "metadata": {},
   "outputs": [],
   "source": []
  },
  {
   "cell_type": "code",
   "execution_count": null,
   "id": "7c58e190",
   "metadata": {},
   "outputs": [],
   "source": []
  },
  {
   "cell_type": "code",
   "execution_count": 11,
   "id": "fdf76484",
   "metadata": {},
   "outputs": [
    {
     "data": {
      "text/plain": [
       "4008"
      ]
     },
     "execution_count": 11,
     "metadata": {},
     "output_type": "execute_result"
    }
   ],
   "source": [
    "len(train_dataset)"
   ]
  },
  {
   "cell_type": "code",
   "execution_count": 12,
   "id": "1384c6d4",
   "metadata": {},
   "outputs": [
    {
     "ename": "NameError",
     "evalue": "name 'x' is not defined",
     "output_type": "error",
     "traceback": [
      "\u001b[0;31m---------------------------------------------------------------------------\u001b[0m",
      "\u001b[0;31mNameError\u001b[0m                                 Traceback (most recent call last)",
      "Input \u001b[0;32mIn [12]\u001b[0m, in \u001b[0;36m<cell line: 1>\u001b[0;34m()\u001b[0m\n\u001b[0;32m----> 1\u001b[0m np\u001b[38;5;241m.\u001b[39mhistogram(\u001b[43mx\u001b[49m[y\u001b[38;5;241m==\u001b[39m\u001b[38;5;241m0\u001b[39m])\n",
      "\u001b[0;31mNameError\u001b[0m: name 'x' is not defined"
     ]
    }
   ],
   "source": [
    "np.histogram(x[y==0])"
   ]
  },
  {
   "cell_type": "code",
   "execution_count": 13,
   "id": "93b67a39",
   "metadata": {
    "scrolled": true
   },
   "outputs": [
    {
     "data": {
      "image/png": "[encoded data removed]",
      "text/plain": [
       "<Figure size 432x288 with 1 Axes>"
      ]
     },
     "metadata": {
      "needs_background": "light"
     },
     "output_type": "display_data"
    },
    {
     "data": {
      "image/png": "[encoded data removed]",
      "text/plain": [
       "<Figure size 432x288 with 1 Axes>"
      ]
     },
     "metadata": {
      "needs_background": "light"
     },
     "output_type": "display_data"
    },
    {
     "data": {
      "image/png": "[encoded data removed]",
      "text/plain": [
       "<Figure size 432x288 with 1 Axes>"
      ]
     },
     "metadata": {
      "needs_background": "light"
     },
     "output_type": "display_data"
    },
    {
     "data": {
      "image/png": "[encoded data removed]",
      "text/plain": [
       "<Figure size 432x288 with 1 Axes>"
      ]
     },
     "metadata": {
      "needs_background": "light"
     },
     "output_type": "display_data"
    },
    {
     "data": {
      "image/png": "[encoded data removed]",
      "text/plain": [
       "<Figure size 432x288 with 1 Axes>"
      ]
     },
     "metadata": {
      "needs_background": "light"
     },
     "output_type": "display_data"
    },
    {
     "data": {
      "image/png": "[encoded data removed]",
      "text/plain": [
       "<Figure size 432x288 with 1 Axes>"
      ]
     },
     "metadata": {
      "needs_background": "light"
     },
     "output_type": "display_data"
    },
    {
     "data": {
      "image/png": "[encoded data removed]",
      "text/plain": [
       "<Figure size 432x288 with 1 Axes>"
      ]
     },
     "metadata": {
      "needs_background": "light"
     },
     "output_type": "display_data"
    },
    {
     "data": {
      "image/png": "[encoded data removed]",
      "text/plain": [
       "<Figure size 432x288 with 1 Axes>"
      ]
     },
     "metadata": {
      "needs_background": "light"
     },
     "output_type": "display_data"
    },
    {
     "data": {
      "image/png": "[encoded data removed]",
      "text/plain": [
       "<Figure size 432x288 with 1 Axes>"
      ]
     },
     "metadata": {
      "needs_background": "light"
     },
     "output_type": "display_data"
    },
    {
     "data": {
      "image/png": "[encoded data removed]",
      "text/plain": [
       "<Figure size 432x288 with 1 Axes>"
      ]
     },
     "metadata": {
      "needs_background": "light"
     },
     "output_type": "display_data"
    },
    {
     "data": {
      "image/png": "[encoded data removed]",
      "text/plain": [
       "<Figure size 432x288 with 1 Axes>"
      ]
     },
     "metadata": {
      "needs_background": "light"
     },
     "output_type": "display_data"
    },
    {
     "data": {
      "image/png": "[encoded data removed]",
      "text/plain": [
       "<Figure size 432x288 with 1 Axes>"
      ]
     },
     "metadata": {
      "needs_background": "light"
     },
     "output_type": "display_data"
    }
   ],
   "source": [
    "def print_feature(x,y,title = None):\n",
    "    if title: plt.title(title) \n",
    "    for label in [0,1]:\n",
    "        plt.hist(x[y==label], alpha = 0.5, label = label)\n",
    "    plt.legend()\n",
    "    plt.show()\n",
    "\n",
    "def save_feature_histogram(x,y, title):\n",
    "    hist_0, bin_edges_0 = np.histogram(x[y==0])\n",
    "    hist_1, bin_edges_1 = np.histogram(x[y==1])\n",
    "    pd.DataFrame({\n",
    "        'bins_healthy': bin_edges_0[1:],\n",
    "        'hist_healthy': hist_0,\n",
    "        'bins_somatic': bin_edges_1[1:],\n",
    "        'hist_somatic': hist_1\n",
    "    }\n",
    "    ).to_excel(PLOTS_DIR / f\"histogram__{title}.xlsx\")\n",
    "    \n",
    "titles = [\n",
    "    'template_length',\n",
    "    'query_length',\n",
    "    'template_length_normalized',\n",
    "    'is_reverse',\n",
    "    'is_read1',\n",
    "    'is_read2',\n",
    "    'mapping_quality',\n",
    "    'query_length_normalized',\n",
    "    'NM_tag',\n",
    "    'AS_tag',\n",
    "    'XS_tag',\n",
    "    'MC_tag'\n",
    "]\n",
    "for i in range(x_att.shape[1]):\n",
    "    print_feature(x_att[:,i], y, title=titles[i])"
   ]
  },
  {
   "cell_type": "code",
   "execution_count": 14,
   "id": "a7b2c6d2",
   "metadata": {},
   "outputs": [
    {
     "data": {
      "image/png": "[encoded data removed]",
      "text/plain": [
       "<Figure size 432x288 with 1 Axes>"
      ]
     },
     "metadata": {
      "needs_background": "light"
     },
     "output_type": "display_data"
    }
   ],
   "source": [
    "feat = x_dna[:,1]\n",
    "feat[feat<0] = 0\n",
    "feat = feat.mean(axis = 1)\n",
    "print_feature(feat, y)"
   ]
  },
  {
   "cell_type": "code",
   "execution_count": 15,
   "id": "8bc26088",
   "metadata": {},
   "outputs": [
    {
     "data": {
      "text/plain": [
       "(array([1920.,    0.,    0.,    0.,    0.,    0.,    0.,    0.,    0.,\n",
       "        2088.]),\n",
       " array([0. , 0.1, 0.2, 0.3, 0.4, 0.5, 0.6, 0.7, 0.8, 0.9, 1. ]),\n",
       " <BarContainer object of 10 artists>)"
      ]
     },
     "execution_count": 15,
     "metadata": {},
     "output_type": "execute_result"
    },
    {
     "data": {
      "image/png": "[encoded data removed]",
      "text/plain": [
       "<Figure size 432x288 with 1 Axes>"
      ]
     },
     "metadata": {
      "needs_background": "light"
     },
     "output_type": "display_data"
    }
   ],
   "source": [
    "plt.hist(y)"
   ]
  },
  {
   "cell_type": "code",
   "execution_count": 16,
   "id": "daa65aa7",
   "metadata": {},
   "outputs": [
    {
     "data": {
      "text/plain": [
       "array([[0.312, 0.301, 0.301, ..., 0.   , 0.   , 0.   ],\n",
       "       [0.323, 0.269, 0.28 , ..., 0.   , 0.   , 0.   ],\n",
       "       [0.14 , 0.194, 0.14 , ..., 0.   , 0.   , 0.   ],\n",
       "       ...,\n",
       "       [0.312, 0.301, 0.301, ..., 0.   , 0.   , 0.   ],\n",
       "       [0.312, 0.323, 0.301, ..., 0.   , 0.   , 0.   ],\n",
       "       [0.419, 0.409, 0.409, ..., 0.   , 0.   , 0.   ]], dtype=float32)"
      ]
     },
     "execution_count": 16,
     "metadata": {},
     "output_type": "execute_result"
    }
   ],
   "source": [
    "x_dna[:,1]"
   ]
  },
  {
   "cell_type": "code",
   "execution_count": 17,
   "id": "2cace431",
   "metadata": {},
   "outputs": [
    {
     "data": {
      "image/png": "[encoded data removed]",
      "text/plain": [
       "<Figure size 432x288 with 1 Axes>"
      ]
     },
     "metadata": {
      "needs_background": "light"
     },
     "output_type": "display_data"
    }
   ],
   "source": [
    "quals = x_dna[:,1]\n",
    "quals[quals<0] = 0\n",
    "plt.plot(quals[y == 0].mean(axis = 0)[:150], label = 0)\n",
    "plt.plot(quals[y == 1].mean(axis = 0)[:150],label = 1)\n",
    "plt.xlabel('')\n",
    "\n",
    "plt.legend()\n",
    "plt.show()\n"
   ]
  },
  {
   "cell_type": "code",
   "execution_count": 18,
   "id": "9cbb085c",
   "metadata": {},
   "outputs": [],
   "source": [
    "# pd.DataFrame({\n",
    "#     'bp': np.arange(150),\n",
    "#     'somatic': quals[y == 1].mean(axis = 0)[:150],\n",
    "#     'healthy': quals[y == 0].mean(axis = 0)[:150]\n",
    "# }).to_excel(PLOTS_DIR / 'quality_comparison_LUAD02.xlsx')"
   ]
  },
  {
   "cell_type": "code",
   "execution_count": 19,
   "id": "ed90892d",
   "metadata": {},
   "outputs": [
    {
     "data": {
      "text/plain": [
       "(4008, 3, 200)"
      ]
     },
     "execution_count": 19,
     "metadata": {},
     "output_type": "execute_result"
    }
   ],
   "source": [
    "# quals = x_dna[:,1]#.mean(axis=1)\n",
    "# x = np.hstack([x_att, quals.mean(axis=1).reshape(-1,1)])\n",
    "\n",
    "x = x_dna\n",
    "x.shape"
   ]
  },
  {
   "cell_type": "code",
   "execution_count": 20,
   "id": "0429b9cc",
   "metadata": {},
   "outputs": [],
   "source": [
    "from sklearn.model_selection import train_test_split\n",
    "x_train, x_test, y_train, y_test = train_test_split(x, y)"
   ]
  },
  {
   "cell_type": "code",
   "execution_count": 21,
   "id": "c03d3f5b",
   "metadata": {},
   "outputs": [],
   "source": [
    "from models import *\n",
    "# clf = LogisticModel(max_iter = 1000, C=0.8)\n",
    "\n",
    "# clf = LGBMModel(n_estimators=10, max_depth=5, colsample_bytree=0.2)\n",
    "\n",
    "# clf = XGBModel(n_estimators=30, max_depth=5, colsample_bytree=0.8)\n",
    "\n",
    "# clf = SkorchModel(n_features)\n",
    "\n",
    "# clf = KerasModel()"
   ]
  },
  {
   "cell_type": "code",
   "execution_count": 22,
   "id": "a3d3491a",
   "metadata": {},
   "outputs": [],
   "source": [
    "from models.torch import TorchModel"
   ]
  },
  {
   "cell_type": "code",
   "execution_count": 23,
   "id": "f640c1c5",
   "metadata": {},
   "outputs": [],
   "source": [
    "from modules.models import metaSimpleDense, nucSimpleCnn, nucCnnLinear"
   ]
  },
  {
   "cell_type": "code",
   "execution_count": 24,
   "id": "a4f2d94d",
   "metadata": {},
   "outputs": [],
   "source": [
    "from models.torch import TorchModel\n",
    "from modules.models import metaSimpleDense\n",
    "\n",
    "clf = TorchModel(nucSimpleCnn())#input_size=200, hidden_size=50, linear_size=10))"
   ]
  },
  {
   "cell_type": "code",
   "execution_count": 25,
   "id": "42c1dd9f",
   "metadata": {},
   "outputs": [],
   "source": [
    "from sklearn.metrics import f1_score, accuracy_score\n",
    "from utils.metric_utils import HardMetric\n",
    "final_metric = HardMetric(f1_score)"
   ]
  },
  {
   "cell_type": "code",
   "execution_count": null,
   "id": "78135aa6",
   "metadata": {
    "scrolled": true
   },
   "outputs": [],
   "source": []
  },
  {
   "cell_type": "code",
   "execution_count": 26,
   "id": "4cec7aa9",
   "metadata": {
    "scrolled": true
   },
   "outputs": [],
   "source": [
    "# from models import *\n",
    "\n",
    "# x_train = pd.DataFrame(x_train)\n",
    "# y_train = pd.Series(y_train)\n",
    "\n",
    "# from models.optuna import OptunaCV\n",
    "# clf = OptunaCV.optimize(\n",
    "#     x_train,\n",
    "#     y_train,\n",
    "#     estimators= [XGBModel, LGBMModel, KerasModel],\n",
    "#     metric=final_metric,\n",
    "#     n_trials = 100\n",
    "# )"
   ]
  },
  {
   "cell_type": "code",
   "execution_count": 27,
   "id": "8f2728ab",
   "metadata": {},
   "outputs": [],
   "source": [
    "# from models.skorch import SkorchModel\n",
    "# from modules.models import SimpleCnn, nucSimpleCnnOrig, metaSimpleDense\n",
    "# clf = SkorchModel(metaSimpleDense(input_size=x_train.shape[1], hidden_size = 5), optimizer__lr=0.005)"
   ]
  },
  {
   "cell_type": "code",
   "execution_count": 28,
   "id": "a1f9627e",
   "metadata": {},
   "outputs": [],
   "source": [
    "# from sklearn.svm import SVC\n",
    "# # clf = SVC(probability=True)\n",
    "\n",
    "# from xgboost import XGBClassifier\n",
    "# clf = XGBClassifier()"
   ]
  },
  {
   "cell_type": "code",
   "execution_count": 29,
   "id": "6738b8ad",
   "metadata": {},
   "outputs": [
    {
     "name": "stderr",
     "output_type": "stream",
     "text": [
      "root        : INFO     Epoch   1/ 30, train loss: 0.0220, train acc: 0.5043\n",
      "root        : INFO     Epoch   2/ 30, train loss: 0.0217, train acc: 0.5077\n",
      "root        : INFO     Epoch   3/ 30, train loss: 0.0218, train acc: 0.4973\n",
      "root        : INFO     Epoch   4/ 30, train loss: 0.0217, train acc: 0.5050\n",
      "root        : INFO     Epoch   5/ 30, train loss: 0.0217, train acc: 0.4997\n",
      "root        : INFO     Epoch   6/ 30, train loss: 0.0217, train acc: 0.5216\n",
      "root        : INFO     Epoch   7/ 30, train loss: 0.0217, train acc: 0.5096\n",
      "root        : INFO     Epoch   8/ 30, train loss: 0.0217, train acc: 0.5027\n",
      "root        : INFO     Epoch   9/ 30, train loss: 0.0218, train acc: 0.5060\n",
      "root        : INFO     Epoch  10/ 30, train loss: 0.0218, train acc: 0.4970\n",
      "root        : INFO     Epoch  11/ 30, train loss: 0.0217, train acc: 0.5050\n",
      "root        : INFO     Epoch  12/ 30, train loss: 0.0217, train acc: 0.5269\n",
      "root        : INFO     Epoch  13/ 30, train loss: 0.0217, train acc: 0.5210\n",
      "root        : INFO     Epoch  14/ 30, train loss: 0.0217, train acc: 0.5060\n",
      "root        : INFO     Epoch  15/ 30, train loss: 0.0217, train acc: 0.5116\n",
      "root        : INFO     Epoch  16/ 30, train loss: 0.0217, train acc: 0.5140\n",
      "root        : INFO     Epoch  17/ 30, train loss: 0.0216, train acc: 0.5160\n",
      "root        : INFO     Epoch  18/ 30, train loss: 0.0217, train acc: 0.5273\n",
      "root        : INFO     Epoch  19/ 30, train loss: 0.0217, train acc: 0.5140\n"
     ]
    },
    {
     "ename": "KeyboardInterrupt",
     "evalue": "",
     "output_type": "error",
     "traceback": [
      "\u001b[0;31m---------------------------------------------------------------------------\u001b[0m",
      "\u001b[0;31mKeyboardInterrupt\u001b[0m                         Traceback (most recent call last)",
      "Input \u001b[0;32mIn [29]\u001b[0m, in \u001b[0;36m<cell line: 4>\u001b[0;34m()\u001b[0m\n\u001b[1;32m      1\u001b[0m \u001b[38;5;66;03m# x_train = pd.DataFrame(x_train)\u001b[39;00m\n\u001b[1;32m      2\u001b[0m \u001b[38;5;66;03m# y_train = pd.Series(y_train)\u001b[39;00m\n\u001b[0;32m----> 4\u001b[0m \u001b[43mclf\u001b[49m\u001b[38;5;241;43m.\u001b[39;49m\u001b[43mfit\u001b[49m\u001b[43m(\u001b[49m\u001b[43mx_train\u001b[49m\u001b[43m,\u001b[49m\u001b[43m \u001b[49m\u001b[43my_train\u001b[49m\u001b[43m,\u001b[49m\u001b[43m \u001b[49m\u001b[43mlearning_rate\u001b[49m\u001b[38;5;241;43m=\u001b[39;49m\u001b[38;5;241;43m0.001\u001b[39;49m\u001b[43m,\u001b[49m\u001b[43m \u001b[49m\u001b[43mepochs\u001b[49m\u001b[38;5;241;43m=\u001b[39;49m\u001b[38;5;241;43m30\u001b[39;49m\u001b[43m)\u001b[49m\n",
      "File \u001b[0;32m/data/alonwolf/projects/SomaticSerum/src/models/torch.py:71\u001b[0m, in \u001b[0;36mTorchModel.fit\u001b[0;34m(self, X, y, batch_size, epochs, learning_rate, device, *args, **kwargs)\u001b[0m\n\u001b[1;32m     68\u001b[0m yhat \u001b[38;5;241m=\u001b[39m model(x)\n\u001b[1;32m     69\u001b[0m loss \u001b[38;5;241m=\u001b[39m loss_fn(yhat, y)\n\u001b[0;32m---> 71\u001b[0m \u001b[43mloss\u001b[49m\u001b[38;5;241;43m.\u001b[39;49m\u001b[43mbackward\u001b[49m\u001b[43m(\u001b[49m\u001b[43m)\u001b[49m\n\u001b[1;32m     72\u001b[0m optimizer\u001b[38;5;241m.\u001b[39mstep()\n\u001b[1;32m     74\u001b[0m train_loss \u001b[38;5;241m+\u001b[39m\u001b[38;5;241m=\u001b[39m loss\u001b[38;5;241m.\u001b[39mdata\u001b[38;5;241m.\u001b[39mitem()  \u001b[38;5;66;03m# * x.size(0)\u001b[39;00m\n",
      "File \u001b[0;32m/data/alonwolf/miniconda3/envs/sandbox/lib/python3.10/site-packages/torch/_tensor.py:363\u001b[0m, in \u001b[0;36mTensor.backward\u001b[0;34m(self, gradient, retain_graph, create_graph, inputs)\u001b[0m\n\u001b[1;32m    354\u001b[0m \u001b[38;5;28;01mif\u001b[39;00m has_torch_function_unary(\u001b[38;5;28mself\u001b[39m):\n\u001b[1;32m    355\u001b[0m     \u001b[38;5;28;01mreturn\u001b[39;00m handle_torch_function(\n\u001b[1;32m    356\u001b[0m         Tensor\u001b[38;5;241m.\u001b[39mbackward,\n\u001b[1;32m    357\u001b[0m         (\u001b[38;5;28mself\u001b[39m,),\n\u001b[0;32m   (...)\u001b[0m\n\u001b[1;32m    361\u001b[0m         create_graph\u001b[38;5;241m=\u001b[39mcreate_graph,\n\u001b[1;32m    362\u001b[0m         inputs\u001b[38;5;241m=\u001b[39minputs)\n\u001b[0;32m--> 363\u001b[0m \u001b[43mtorch\u001b[49m\u001b[38;5;241;43m.\u001b[39;49m\u001b[43mautograd\u001b[49m\u001b[38;5;241;43m.\u001b[39;49m\u001b[43mbackward\u001b[49m\u001b[43m(\u001b[49m\u001b[38;5;28;43mself\u001b[39;49m\u001b[43m,\u001b[49m\u001b[43m \u001b[49m\u001b[43mgradient\u001b[49m\u001b[43m,\u001b[49m\u001b[43m \u001b[49m\u001b[43mretain_graph\u001b[49m\u001b[43m,\u001b[49m\u001b[43m \u001b[49m\u001b[43mcreate_graph\u001b[49m\u001b[43m,\u001b[49m\u001b[43m \u001b[49m\u001b[43minputs\u001b[49m\u001b[38;5;241;43m=\u001b[39;49m\u001b[43minputs\u001b[49m\u001b[43m)\u001b[49m\n",
      "File \u001b[0;32m/data/alonwolf/miniconda3/envs/sandbox/lib/python3.10/site-packages/torch/autograd/__init__.py:173\u001b[0m, in \u001b[0;36mbackward\u001b[0;34m(tensors, grad_tensors, retain_graph, create_graph, grad_variables, inputs)\u001b[0m\n\u001b[1;32m    168\u001b[0m     retain_graph \u001b[38;5;241m=\u001b[39m create_graph\n\u001b[1;32m    170\u001b[0m \u001b[38;5;66;03m# The reason we repeat same the comment below is that\u001b[39;00m\n\u001b[1;32m    171\u001b[0m \u001b[38;5;66;03m# some Python versions print out the first line of a multi-line function\u001b[39;00m\n\u001b[1;32m    172\u001b[0m \u001b[38;5;66;03m# calls in the traceback and some print out the last line\u001b[39;00m\n\u001b[0;32m--> 173\u001b[0m \u001b[43mVariable\u001b[49m\u001b[38;5;241;43m.\u001b[39;49m\u001b[43m_execution_engine\u001b[49m\u001b[38;5;241;43m.\u001b[39;49m\u001b[43mrun_backward\u001b[49m\u001b[43m(\u001b[49m\u001b[43m  \u001b[49m\u001b[38;5;66;43;03m# Calls into the C++ engine to run the backward pass\u001b[39;49;00m\n\u001b[1;32m    174\u001b[0m \u001b[43m    \u001b[49m\u001b[43mtensors\u001b[49m\u001b[43m,\u001b[49m\u001b[43m \u001b[49m\u001b[43mgrad_tensors_\u001b[49m\u001b[43m,\u001b[49m\u001b[43m \u001b[49m\u001b[43mretain_graph\u001b[49m\u001b[43m,\u001b[49m\u001b[43m \u001b[49m\u001b[43mcreate_graph\u001b[49m\u001b[43m,\u001b[49m\u001b[43m \u001b[49m\u001b[43minputs\u001b[49m\u001b[43m,\u001b[49m\n\u001b[1;32m    175\u001b[0m \u001b[43m    \u001b[49m\u001b[43mallow_unreachable\u001b[49m\u001b[38;5;241;43m=\u001b[39;49m\u001b[38;5;28;43;01mTrue\u001b[39;49;00m\u001b[43m,\u001b[49m\u001b[43m \u001b[49m\u001b[43maccumulate_grad\u001b[49m\u001b[38;5;241;43m=\u001b[39;49m\u001b[38;5;28;43;01mTrue\u001b[39;49;00m\u001b[43m)\u001b[49m\n",
      "\u001b[0;31mKeyboardInterrupt\u001b[0m: "
     ]
    }
   ],
   "source": [
    "# x_train = pd.DataFrame(x_train)\n",
    "# y_train = pd.Series(y_train)\n",
    "\n",
    "clf.fit(x_train, y_train, learning_rate=0.001, epochs=30)"
   ]
  },
  {
   "cell_type": "code",
   "execution_count": 100,
   "id": "2b64da57",
   "metadata": {
    "scrolled": true
   },
   "outputs": [],
   "source": [
    "y_pred = clf.predict_proba(x_test)[:,1]"
   ]
  },
  {
   "cell_type": "code",
   "execution_count": 101,
   "id": "4ecf5516",
   "metadata": {},
   "outputs": [
    {
     "name": "stdout",
     "output_type": "stream",
     "text": [
      "at 0.0 acc is 0.54 prec is 0.54 rec is 1.0 f1_score is 0.7\n",
      "at 0.05 acc is 0.53 prec is 0.54 rec is 0.93 f1_score is 0.68\n",
      "at 0.1 acc is 0.53 prec is 0.54 rec is 0.89 f1_score is 0.67\n",
      "at 0.15 acc is 0.53 prec is 0.54 rec is 0.86 f1_score is 0.67\n",
      "at 0.2 acc is 0.53 prec is 0.54 rec is 0.83 f1_score is 0.66\n",
      "at 0.25 acc is 0.53 prec is 0.55 rec is 0.8 f1_score is 0.65\n",
      "at 0.3 acc is 0.52 prec is 0.54 rec is 0.76 f1_score is 0.63\n",
      "at 0.35 acc is 0.51 prec is 0.54 rec is 0.7 f1_score is 0.61\n",
      "at 0.4 acc is 0.51 prec is 0.55 rec is 0.64 f1_score is 0.59\n",
      "at 0.45 acc is 0.52 prec is 0.56 rec is 0.55 f1_score is 0.55\n",
      "at 0.5 acc is 0.52 prec is 0.57 rec is 0.43 f1_score is 0.49\n",
      "at 0.55 acc is 0.5 prec is 0.57 rec is 0.33 f1_score is 0.42\n",
      "at 0.6 acc is 0.49 prec is 0.57 rec is 0.26 f1_score is 0.36\n",
      "at 0.65 acc is 0.5 prec is 0.58 rec is 0.24 f1_score is 0.34\n",
      "at 0.7 acc is 0.49 prec is 0.59 rec is 0.21 f1_score is 0.31\n",
      "at 0.75 acc is 0.49 prec is 0.61 rec is 0.18 f1_score is 0.28\n",
      "at 0.8 acc is 0.49 prec is 0.62 rec is 0.16 f1_score is 0.25\n",
      "at 0.85 acc is 0.49 prec is 0.62 rec is 0.14 f1_score is 0.22\n",
      "at 0.9 acc is 0.48 prec is 0.61 rec is 0.11 f1_score is 0.19\n",
      "at 0.95 acc is 0.48 prec is 0.66 rec is 0.09 f1_score is 0.16\n"
     ]
    }
   ],
   "source": [
    "from sklearn.metrics import accuracy_score, precision_score, recall_score, f1_score\n",
    "for th in np.arange(20)/20:\n",
    "    print(f'''at {th} acc is {np.round(accuracy_score(y_test, (y_pred > th)),2)} prec is {np.round(precision_score(y_test, (y_pred > th)),2)} rec is {np.round(recall_score(y_test, (y_pred > th)),2)} f1_score is {np.round(f1_score(y_test, (y_pred > th)),2)}''')"
   ]
  },
  {
   "cell_type": "code",
   "execution_count": 114,
   "id": "1a93618d",
   "metadata": {},
   "outputs": [],
   "source": [
    "from config import PLOTS_DIR\n",
    "\n",
    "from sklearn.metrics import precision_recall_curve, roc_curve\n",
    "def save_curve_to_xlsx(f_curve, y_test, y_pred, x_name='x', y_name='y'):\n",
    "    f_curve = roc_curve\n",
    "    x, y, thresholds = f_curve(y_test, y_pred)\n",
    "    if len(thresholds) < len(y):\n",
    "        thresholds = np.pad(thresholds, pad_width=(1,0))\n",
    "    pd.DataFrame({\n",
    "        x_name: x,\n",
    "        y_name: y,\n",
    "        'thresholds': thresholds\n",
    "    }).to_excel(PLOTS_DIR / f'{f_curve.__name__}_{str(clf).split(\"(\")[0]}.xlsx')\n",
    "# save_curve_to_xlsx(precision_recall_curve,y_test, y_pred,'prec','recall')\n",
    "# save_curve_to_xlsx(roc_curve,y_test, y_pred,'fpr', 'tpr')"
   ]
  },
  {
   "cell_type": "code",
   "execution_count": 109,
   "id": "4190e3a9",
   "metadata": {},
   "outputs": [
    {
     "data": {
      "text/plain": [
       "<sklearn.metrics._plot.roc_curve.RocCurveDisplay at 0x7f5cfaa9b970>"
      ]
     },
     "execution_count": 109,
     "metadata": {},
     "output_type": "execute_result"
    },
    {
     "data": {
      "image/png": "[encoded data removed]",
      "text/plain": [
       "<Figure size 432x288 with 1 Axes>"
      ]
     },
     "metadata": {
      "needs_background": "light"
     },
     "output_type": "display_data"
    },
    {
     "data": {
      "image/png": "[encoded data removed]",
      "text/plain": [
       "<Figure size 432x288 with 1 Axes>"
      ]
     },
     "metadata": {
      "needs_background": "light"
     },
     "output_type": "display_data"
    }
   ],
   "source": [
    "from sklearn.metrics import plot_precision_recall_curve, plot_roc_curve\n",
    "plot_precision_recall_curve(clf, pd.DataFrame(x_test), y_test)\n",
    "plot_roc_curve(clf, pd.DataFrame(x_test), y_test)"
   ]
  },
  {
   "cell_type": "raw",
   "id": "63bd5dcc",
   "metadata": {},
   "source": [
    "from sklearn.metrics import plot_roc_curve\n",
    "plot_roc_curve(clf, x_test, y_test)"
   ]
  },
  {
   "cell_type": "code",
   "execution_count": null,
   "id": "f1898498",
   "metadata": {},
   "outputs": [],
   "source": [
    "print_feature(x_att[:,-2], y)"
   ]
  },
  {
   "cell_type": "code",
   "execution_count": null,
   "id": "c4a93f76",
   "metadata": {},
   "outputs": [],
   "source": []
  },
  {
   "cell_type": "code",
   "execution_count": null,
   "id": "1ca37ed8",
   "metadata": {},
   "outputs": [],
   "source": [
    "clf.feature_importances_"
   ]
  },
  {
   "cell_type": "code",
   "execution_count": null,
   "id": "5aa210b3",
   "metadata": {},
   "outputs": [],
   "source": []
  }
 ],
 "metadata": {
  "kernelspec": {
   "display_name": "Python 3 (ipykernel)",
   "language": "python",
   "name": "python3"
  },
  "language_info": {
   "codemirror_mode": {
    "name": "ipython",
    "version": 3
   },
   "file_extension": ".py",
   "mimetype": "text/x-python",
   "name": "python",
   "nbconvert_exporter": "python",
   "pygments_lexer": "ipython3",
   "version": "3.10.4"
  }
 },
 "nbformat": 4,
 "nbformat_minor": 5
}
