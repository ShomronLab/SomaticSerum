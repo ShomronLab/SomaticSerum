{
 "cells": [
  {
   "cell_type": "code",
   "execution_count": 3,
   "id": "6361cc22",
   "metadata": {},
   "outputs": [],
   "source": [
    "##### base\n",
    "import pandas as pd\n",
    "import numpy as np\n",
    "import matplotlib.pyplot as plt\n",
    "# import seaborn as sns\n",
    "import os\n",
    "\n",
    "# matplotlib\n",
    "%matplotlib inline\n",
    "\n",
    "# display\n",
    "from IPython.display import display\n",
    "\n",
    "# autoreload\n",
    "%load_ext autoreload\n",
    "%autoreload 2\n",
    "\n",
    "# warnings\n",
    "import warnings\n",
    "warnings.filterwarnings('ignore')\n",
    "\n",
    "# fix random seed\n",
    "from numpy.random import seed as set_random_seed\n",
    "set_random_seed(42)\n",
    "\n",
    "# explainability\n",
    "# import shap, lime #eli5\n",
    "# shap.initjs()\n",
    "\n",
    "# debug\n",
    "# from icecream import ic\n",
    "# debug = ic\n",
    "import logging\n",
    "logg = logging.info"
   ]
  },
  {
   "cell_type": "code",
   "execution_count": 4,
   "id": "214da28e",
   "metadata": {},
   "outputs": [],
   "source": [
    "import utils.utils as util\n",
    "from utils.utils import Parms"
   ]
  },
  {
   "cell_type": "markdown",
   "id": "c09ce43f",
   "metadata": {},
   "source": [
    "# Params"
   ]
  },
  {
   "cell_type": "code",
   "execution_count": 37,
   "id": "8eb0a0c7",
   "metadata": {},
   "outputs": [],
   "source": [
    "ONLY_LUAD02 = True\n",
    "SAMPLE = False\n",
    "SAMPLE_FRAC = 0.05\n",
    "\n",
    "TEST_FRAC = 0.2"
   ]
  },
  {
   "cell_type": "code",
   "execution_count": 38,
   "id": "57f33d55",
   "metadata": {},
   "outputs": [],
   "source": [
    "# metric\n",
    "from sklearn.metrics import f1_score, accuracy_score\n",
    "from utils.metric_utils import HardMetric\n",
    "final_metric = HardMetric(f1_score)"
   ]
  },
  {
   "cell_type": "code",
   "execution_count": 39,
   "id": "300a5dda",
   "metadata": {},
   "outputs": [],
   "source": [
    "if ONLY_LUAD02:\n",
    "    bam_dir = '../data/sample'\n",
    "else:\n",
    "    bam_dir = '../data/seqmerge/DLbams_rand'"
   ]
  },
  {
   "cell_type": "code",
   "execution_count": 40,
   "id": "b975ce11",
   "metadata": {},
   "outputs": [],
   "source": [
    "# parser = argparse.ArgumentParser()\n",
    "# params = {\n",
    "#     'sample_split': True,\n",
    "#     'model' : 'SimpleCnn',\n",
    "#     'hidden_size' : 64,\n",
    "#     'sequence_length' : 200,\n",
    "#     'batch_size' : 512,\n",
    "#     'learning_rate' : 0.00001,\n",
    "#     'max_epoch' : 100,\n",
    "#     'lstm_layers' : 10,\n",
    "#     'dropout' : 0.5,\n",
    "#     'out' : 'output',\n",
    "#     'test' : 'Test directory',\n",
    "#     'training_bam_dir' : bam_dir,\n",
    "#     'sample_split' : True,\n",
    "#     'model' : \"metaSimpleDense\",\n",
    "#     'hidden_size' : 64,\n",
    "#     'batch_size' : 32,\n",
    "#     'learning_rate' : 0.001,\n",
    "#     'max_epoch' : 20,\n",
    "#     'dropout' : 0.005,\n",
    "#     'num_workers' : 1\n",
    "# }\n",
    "\n",
    "# args = parser.parse_known_args()[0]\n",
    "# args.__dict__.update(params)\n",
    "# parms = Parms(\n",
    "#     args\n",
    "# )"
   ]
  },
  {
   "cell_type": "markdown",
   "id": "42b1311b",
   "metadata": {},
   "source": [
    "# Data Loading"
   ]
  },
  {
   "cell_type": "code",
   "execution_count": 41,
   "id": "e214d936",
   "metadata": {},
   "outputs": [],
   "source": [
    "from modules.data_loading import DataLoader\n",
    "raw_data = DataLoader.load_from_dir(bam_dir)"
   ]
  },
  {
   "cell_type": "code",
   "execution_count": 42,
   "id": "3c58ff37",
   "metadata": {},
   "outputs": [
    {
     "data": {
      "text/plain": [
       "5010"
      ]
     },
     "execution_count": 42,
     "metadata": {},
     "output_type": "execute_result"
    }
   ],
   "source": [
    "if SAMPLE:\n",
    "    data = np.random.choice(raw_data, int(SAMPLE_FRAC * len(raw_data)))\n",
    "else:\n",
    "    data = raw_data\n",
    "len(data)"
   ]
  },
  {
   "cell_type": "markdown",
   "id": "a99d64db",
   "metadata": {},
   "source": [
    "# Feature Extraction"
   ]
  },
  {
   "cell_type": "markdown",
   "id": "31999930",
   "metadata": {},
   "source": [
    "## X Extraction"
   ]
  },
  {
   "cell_type": "markdown",
   "id": "752bb516",
   "metadata": {},
   "source": [
    "### Meta"
   ]
  },
  {
   "cell_type": "code",
   "execution_count": 43,
   "id": "dcd8d34e",
   "metadata": {
    "scrolled": true
   },
   "outputs": [
    {
     "data": {
      "text/html": [
       "<div>\n",
       "<style scoped>\n",
       "    .dataframe tbody tr th:only-of-type {\n",
       "        vertical-align: middle;\n",
       "    }\n",
       "\n",
       "    .dataframe tbody tr th {\n",
       "        vertical-align: top;\n",
       "    }\n",
       "\n",
       "    .dataframe thead th {\n",
       "        text-align: right;\n",
       "    }\n",
       "</style>\n",
       "<table border=\"1\" class=\"dataframe\">\n",
       "  <thead>\n",
       "    <tr style=\"text-align: right;\">\n",
       "      <th></th>\n",
       "      <th>tlen</th>\n",
       "      <th>query_length</th>\n",
       "      <th>tlen_normalized</th>\n",
       "      <th>is_reverse</th>\n",
       "      <th>is_read1</th>\n",
       "      <th>is_read2</th>\n",
       "      <th>mapping_quality</th>\n",
       "      <th>query_length_normalized</th>\n",
       "      <th>tag_NM</th>\n",
       "      <th>tag_AS</th>\n",
       "      <th>tag_XS</th>\n",
       "      <th>tag_MC</th>\n",
       "    </tr>\n",
       "  </thead>\n",
       "  <tbody>\n",
       "    <tr>\n",
       "      <th>0</th>\n",
       "      <td>27</td>\n",
       "      <td>151</td>\n",
       "      <td>0.040</td>\n",
       "      <td>1</td>\n",
       "      <td>1</td>\n",
       "      <td>0</td>\n",
       "      <td>0.900</td>\n",
       "      <td>0.221</td>\n",
       "      <td>0.01</td>\n",
       "      <td>0.292</td>\n",
       "      <td>133</td>\n",
       "      <td>151.0</td>\n",
       "    </tr>\n",
       "    <tr>\n",
       "      <th>1</th>\n",
       "      <td>27</td>\n",
       "      <td>151</td>\n",
       "      <td>0.040</td>\n",
       "      <td>0</td>\n",
       "      <td>0</td>\n",
       "      <td>1</td>\n",
       "      <td>0.667</td>\n",
       "      <td>0.221</td>\n",
       "      <td>0.06</td>\n",
       "      <td>0.252</td>\n",
       "      <td>126</td>\n",
       "      <td>151.0</td>\n",
       "    </tr>\n",
       "    <tr>\n",
       "      <th>2</th>\n",
       "      <td>216</td>\n",
       "      <td>151</td>\n",
       "      <td>0.316</td>\n",
       "      <td>0</td>\n",
       "      <td>1</td>\n",
       "      <td>0</td>\n",
       "      <td>0.783</td>\n",
       "      <td>0.221</td>\n",
       "      <td>0.03</td>\n",
       "      <td>0.274</td>\n",
       "      <td>131</td>\n",
       "      <td>151.0</td>\n",
       "    </tr>\n",
       "    <tr>\n",
       "      <th>3</th>\n",
       "      <td>216</td>\n",
       "      <td>151</td>\n",
       "      <td>0.316</td>\n",
       "      <td>1</td>\n",
       "      <td>0</td>\n",
       "      <td>1</td>\n",
       "      <td>1.000</td>\n",
       "      <td>0.221</td>\n",
       "      <td>0.17</td>\n",
       "      <td>0.132</td>\n",
       "      <td>47</td>\n",
       "      <td>151.0</td>\n",
       "    </tr>\n",
       "    <tr>\n",
       "      <th>4</th>\n",
       "      <td>131</td>\n",
       "      <td>151</td>\n",
       "      <td>0.192</td>\n",
       "      <td>0</td>\n",
       "      <td>0</td>\n",
       "      <td>1</td>\n",
       "      <td>0.000</td>\n",
       "      <td>0.221</td>\n",
       "      <td>0.07</td>\n",
       "      <td>0.194</td>\n",
       "      <td>97</td>\n",
       "      <td>52.0</td>\n",
       "    </tr>\n",
       "    <tr>\n",
       "      <th>...</th>\n",
       "      <td>...</td>\n",
       "      <td>...</td>\n",
       "      <td>...</td>\n",
       "      <td>...</td>\n",
       "      <td>...</td>\n",
       "      <td>...</td>\n",
       "      <td>...</td>\n",
       "      <td>...</td>\n",
       "      <td>...</td>\n",
       "      <td>...</td>\n",
       "      <td>...</td>\n",
       "      <td>...</td>\n",
       "    </tr>\n",
       "    <tr>\n",
       "      <th>5005</th>\n",
       "      <td>0</td>\n",
       "      <td>231</td>\n",
       "      <td>0.000</td>\n",
       "      <td>1</td>\n",
       "      <td>0</td>\n",
       "      <td>0</td>\n",
       "      <td>0.617</td>\n",
       "      <td>0.338</td>\n",
       "      <td>0.00</td>\n",
       "      <td>0.462</td>\n",
       "      <td>211</td>\n",
       "      <td>-1.0</td>\n",
       "    </tr>\n",
       "    <tr>\n",
       "      <th>5006</th>\n",
       "      <td>0</td>\n",
       "      <td>149</td>\n",
       "      <td>0.000</td>\n",
       "      <td>1</td>\n",
       "      <td>0</td>\n",
       "      <td>0</td>\n",
       "      <td>0.083</td>\n",
       "      <td>0.218</td>\n",
       "      <td>0.01</td>\n",
       "      <td>0.288</td>\n",
       "      <td>139</td>\n",
       "      <td>-1.0</td>\n",
       "    </tr>\n",
       "    <tr>\n",
       "      <th>5007</th>\n",
       "      <td>0</td>\n",
       "      <td>169</td>\n",
       "      <td>0.000</td>\n",
       "      <td>0</td>\n",
       "      <td>0</td>\n",
       "      <td>0</td>\n",
       "      <td>0.017</td>\n",
       "      <td>0.247</td>\n",
       "      <td>0.01</td>\n",
       "      <td>0.322</td>\n",
       "      <td>158</td>\n",
       "      <td>-1.0</td>\n",
       "    </tr>\n",
       "    <tr>\n",
       "      <th>5008</th>\n",
       "      <td>0</td>\n",
       "      <td>164</td>\n",
       "      <td>0.000</td>\n",
       "      <td>1</td>\n",
       "      <td>0</td>\n",
       "      <td>0</td>\n",
       "      <td>0.700</td>\n",
       "      <td>0.240</td>\n",
       "      <td>0.00</td>\n",
       "      <td>0.328</td>\n",
       "      <td>144</td>\n",
       "      <td>-1.0</td>\n",
       "    </tr>\n",
       "    <tr>\n",
       "      <th>5009</th>\n",
       "      <td>0</td>\n",
       "      <td>129</td>\n",
       "      <td>0.000</td>\n",
       "      <td>0</td>\n",
       "      <td>0</td>\n",
       "      <td>0</td>\n",
       "      <td>1.000</td>\n",
       "      <td>0.189</td>\n",
       "      <td>0.00</td>\n",
       "      <td>0.258</td>\n",
       "      <td>21</td>\n",
       "      <td>-1.0</td>\n",
       "    </tr>\n",
       "  </tbody>\n",
       "</table>\n",
       "<p>5010 rows × 12 columns</p>\n",
       "</div>"
      ],
      "text/plain": [
       "      tlen  query_length  tlen_normalized  is_reverse  is_read1  is_read2  \\\n",
       "0       27           151            0.040           1         1         0   \n",
       "1       27           151            0.040           0         0         1   \n",
       "2      216           151            0.316           0         1         0   \n",
       "3      216           151            0.316           1         0         1   \n",
       "4      131           151            0.192           0         0         1   \n",
       "...    ...           ...              ...         ...       ...       ...   \n",
       "5005     0           231            0.000           1         0         0   \n",
       "5006     0           149            0.000           1         0         0   \n",
       "5007     0           169            0.000           0         0         0   \n",
       "5008     0           164            0.000           1         0         0   \n",
       "5009     0           129            0.000           0         0         0   \n",
       "\n",
       "      mapping_quality  query_length_normalized  tag_NM  tag_AS  tag_XS  tag_MC  \n",
       "0               0.900                    0.221    0.01   0.292     133   151.0  \n",
       "1               0.667                    0.221    0.06   0.252     126   151.0  \n",
       "2               0.783                    0.221    0.03   0.274     131   151.0  \n",
       "3               1.000                    0.221    0.17   0.132      47   151.0  \n",
       "4               0.000                    0.221    0.07   0.194      97    52.0  \n",
       "...               ...                      ...     ...     ...     ...     ...  \n",
       "5005            0.617                    0.338    0.00   0.462     211    -1.0  \n",
       "5006            0.083                    0.218    0.01   0.288     139    -1.0  \n",
       "5007            0.017                    0.247    0.01   0.322     158    -1.0  \n",
       "5008            0.700                    0.240    0.00   0.328     144    -1.0  \n",
       "5009            1.000                    0.189    0.00   0.258      21    -1.0  \n",
       "\n",
       "[5010 rows x 12 columns]"
      ]
     },
     "execution_count": 43,
     "metadata": {},
     "output_type": "execute_result"
    }
   ],
   "source": [
    "X_meta = pd.DataFrame([read.meta for read in data])\n",
    "X_meta"
   ]
  },
  {
   "cell_type": "markdown",
   "id": "9426c508",
   "metadata": {},
   "source": [
    "### Seq"
   ]
  },
  {
   "cell_type": "code",
   "execution_count": 44,
   "id": "57fba5cc",
   "metadata": {},
   "outputs": [],
   "source": [
    "X_seq = None"
   ]
  },
  {
   "cell_type": "code",
   "execution_count": 215,
   "id": "e6fbf7c7",
   "metadata": {},
   "outputs": [],
   "source": [
    "SEQ_TAGS = ['A', 'C', 'G', 'T', -1]\n",
    "CIGAR_TAGS = [\"M\",\"I\",\"D\",\"N\",\"S\",\"H\",\"P\",\"=\",\"X\", -1]\n",
    "\n",
    "columns_to_drop = ['seq_-1', 'cigar_-1']\n",
    "\n",
    "def extract_seq_by_tags(seq, tags, prefix = ''):\n",
    "    df = pd.get_dummies(seq)\n",
    "    for tag in (set(tags) - set(df.columns)):\n",
    "            df[tag] = 0\n",
    "    df = df[tags]\n",
    "    df.columns = [prefix + str(tag) for tag in tags]\n",
    "    return df\n",
    "\n",
    "def extract_features_from_read(read, columns_to_drop = []):\n",
    "    features = pd.concat([\n",
    "        extract_seq_by_tags(read.seq, SEQ_TAGS, prefix = 'seq_'),\n",
    "        extract_seq_by_tags(read.cigar, CIGAR_TAGS, prefix = 'cigar_'),\n",
    "        pd.DataFrame({'qual': read.qual})       \n",
    "    ], axis = 1)\n",
    "    features = features.drop(columns = columns_to_drop)\n",
    "    return features\n",
    "\n",
    "X_seq = np.array([extract_features_from_read(r, columns_to_drop=columns_to_drop).values for r in data])"
   ]
  },
  {
   "cell_type": "code",
   "execution_count": 235,
   "id": "990191a1",
   "metadata": {},
   "outputs": [
    {
     "data": {
      "text/html": [
       "<div>\n",
       "<style scoped>\n",
       "    .dataframe tbody tr th:only-of-type {\n",
       "        vertical-align: middle;\n",
       "    }\n",
       "\n",
       "    .dataframe tbody tr th {\n",
       "        vertical-align: top;\n",
       "    }\n",
       "\n",
       "    .dataframe thead th {\n",
       "        text-align: right;\n",
       "    }\n",
       "</style>\n",
       "<table border=\"1\" class=\"dataframe\">\n",
       "  <thead>\n",
       "    <tr style=\"text-align: right;\">\n",
       "      <th></th>\n",
       "      <th>seq_A</th>\n",
       "      <th>seq_C</th>\n",
       "      <th>seq_G</th>\n",
       "      <th>seq_T</th>\n",
       "      <th>seq_-1</th>\n",
       "      <th>cigar_M</th>\n",
       "      <th>cigar_I</th>\n",
       "      <th>cigar_D</th>\n",
       "      <th>cigar_N</th>\n",
       "      <th>cigar_S</th>\n",
       "      <th>cigar_H</th>\n",
       "      <th>cigar_P</th>\n",
       "      <th>cigar_=</th>\n",
       "      <th>cigar_X</th>\n",
       "      <th>cigar_-1</th>\n",
       "      <th>qual</th>\n",
       "    </tr>\n",
       "  </thead>\n",
       "  <tbody>\n",
       "    <tr>\n",
       "      <th>0</th>\n",
       "      <td>0</td>\n",
       "      <td>0</td>\n",
       "      <td>0</td>\n",
       "      <td>1</td>\n",
       "      <td>0</td>\n",
       "      <td>0</td>\n",
       "      <td>0</td>\n",
       "      <td>0</td>\n",
       "      <td>0</td>\n",
       "      <td>0</td>\n",
       "      <td>0</td>\n",
       "      <td>0</td>\n",
       "      <td>1</td>\n",
       "      <td>0</td>\n",
       "      <td>0</td>\n",
       "      <td>0.323</td>\n",
       "    </tr>\n",
       "    <tr>\n",
       "      <th>1</th>\n",
       "      <td>0</td>\n",
       "      <td>0</td>\n",
       "      <td>1</td>\n",
       "      <td>0</td>\n",
       "      <td>0</td>\n",
       "      <td>0</td>\n",
       "      <td>0</td>\n",
       "      <td>0</td>\n",
       "      <td>0</td>\n",
       "      <td>0</td>\n",
       "      <td>0</td>\n",
       "      <td>0</td>\n",
       "      <td>1</td>\n",
       "      <td>0</td>\n",
       "      <td>0</td>\n",
       "      <td>0.290</td>\n",
       "    </tr>\n",
       "    <tr>\n",
       "      <th>2</th>\n",
       "      <td>0</td>\n",
       "      <td>0</td>\n",
       "      <td>0</td>\n",
       "      <td>1</td>\n",
       "      <td>0</td>\n",
       "      <td>0</td>\n",
       "      <td>0</td>\n",
       "      <td>0</td>\n",
       "      <td>0</td>\n",
       "      <td>0</td>\n",
       "      <td>0</td>\n",
       "      <td>0</td>\n",
       "      <td>1</td>\n",
       "      <td>0</td>\n",
       "      <td>0</td>\n",
       "      <td>0.312</td>\n",
       "    </tr>\n",
       "    <tr>\n",
       "      <th>3</th>\n",
       "      <td>0</td>\n",
       "      <td>0</td>\n",
       "      <td>1</td>\n",
       "      <td>0</td>\n",
       "      <td>0</td>\n",
       "      <td>0</td>\n",
       "      <td>0</td>\n",
       "      <td>0</td>\n",
       "      <td>0</td>\n",
       "      <td>0</td>\n",
       "      <td>0</td>\n",
       "      <td>0</td>\n",
       "      <td>1</td>\n",
       "      <td>0</td>\n",
       "      <td>0</td>\n",
       "      <td>0.312</td>\n",
       "    </tr>\n",
       "    <tr>\n",
       "      <th>4</th>\n",
       "      <td>0</td>\n",
       "      <td>0</td>\n",
       "      <td>1</td>\n",
       "      <td>0</td>\n",
       "      <td>0</td>\n",
       "      <td>0</td>\n",
       "      <td>0</td>\n",
       "      <td>0</td>\n",
       "      <td>0</td>\n",
       "      <td>0</td>\n",
       "      <td>0</td>\n",
       "      <td>0</td>\n",
       "      <td>1</td>\n",
       "      <td>0</td>\n",
       "      <td>0</td>\n",
       "      <td>0.312</td>\n",
       "    </tr>\n",
       "    <tr>\n",
       "      <th>...</th>\n",
       "      <td>...</td>\n",
       "      <td>...</td>\n",
       "      <td>...</td>\n",
       "      <td>...</td>\n",
       "      <td>...</td>\n",
       "      <td>...</td>\n",
       "      <td>...</td>\n",
       "      <td>...</td>\n",
       "      <td>...</td>\n",
       "      <td>...</td>\n",
       "      <td>...</td>\n",
       "      <td>...</td>\n",
       "      <td>...</td>\n",
       "      <td>...</td>\n",
       "      <td>...</td>\n",
       "      <td>...</td>\n",
       "    </tr>\n",
       "    <tr>\n",
       "      <th>195</th>\n",
       "      <td>0</td>\n",
       "      <td>0</td>\n",
       "      <td>0</td>\n",
       "      <td>0</td>\n",
       "      <td>1</td>\n",
       "      <td>0</td>\n",
       "      <td>0</td>\n",
       "      <td>0</td>\n",
       "      <td>0</td>\n",
       "      <td>0</td>\n",
       "      <td>0</td>\n",
       "      <td>0</td>\n",
       "      <td>0</td>\n",
       "      <td>0</td>\n",
       "      <td>1</td>\n",
       "      <td>-1.000</td>\n",
       "    </tr>\n",
       "    <tr>\n",
       "      <th>196</th>\n",
       "      <td>0</td>\n",
       "      <td>0</td>\n",
       "      <td>0</td>\n",
       "      <td>0</td>\n",
       "      <td>1</td>\n",
       "      <td>0</td>\n",
       "      <td>0</td>\n",
       "      <td>0</td>\n",
       "      <td>0</td>\n",
       "      <td>0</td>\n",
       "      <td>0</td>\n",
       "      <td>0</td>\n",
       "      <td>0</td>\n",
       "      <td>0</td>\n",
       "      <td>1</td>\n",
       "      <td>-1.000</td>\n",
       "    </tr>\n",
       "    <tr>\n",
       "      <th>197</th>\n",
       "      <td>0</td>\n",
       "      <td>0</td>\n",
       "      <td>0</td>\n",
       "      <td>0</td>\n",
       "      <td>1</td>\n",
       "      <td>0</td>\n",
       "      <td>0</td>\n",
       "      <td>0</td>\n",
       "      <td>0</td>\n",
       "      <td>0</td>\n",
       "      <td>0</td>\n",
       "      <td>0</td>\n",
       "      <td>0</td>\n",
       "      <td>0</td>\n",
       "      <td>1</td>\n",
       "      <td>-1.000</td>\n",
       "    </tr>\n",
       "    <tr>\n",
       "      <th>198</th>\n",
       "      <td>0</td>\n",
       "      <td>0</td>\n",
       "      <td>0</td>\n",
       "      <td>0</td>\n",
       "      <td>1</td>\n",
       "      <td>0</td>\n",
       "      <td>0</td>\n",
       "      <td>0</td>\n",
       "      <td>0</td>\n",
       "      <td>0</td>\n",
       "      <td>0</td>\n",
       "      <td>0</td>\n",
       "      <td>0</td>\n",
       "      <td>0</td>\n",
       "      <td>1</td>\n",
       "      <td>-1.000</td>\n",
       "    </tr>\n",
       "    <tr>\n",
       "      <th>199</th>\n",
       "      <td>0</td>\n",
       "      <td>0</td>\n",
       "      <td>0</td>\n",
       "      <td>0</td>\n",
       "      <td>1</td>\n",
       "      <td>0</td>\n",
       "      <td>0</td>\n",
       "      <td>0</td>\n",
       "      <td>0</td>\n",
       "      <td>0</td>\n",
       "      <td>0</td>\n",
       "      <td>0</td>\n",
       "      <td>0</td>\n",
       "      <td>0</td>\n",
       "      <td>1</td>\n",
       "      <td>-1.000</td>\n",
       "    </tr>\n",
       "  </tbody>\n",
       "</table>\n",
       "<p>200 rows × 16 columns</p>\n",
       "</div>"
      ],
      "text/plain": [
       "     seq_A  seq_C  seq_G  seq_T  seq_-1  cigar_M  cigar_I  cigar_D  cigar_N  \\\n",
       "0        0      0      0      1       0        0        0        0        0   \n",
       "1        0      0      1      0       0        0        0        0        0   \n",
       "2        0      0      0      1       0        0        0        0        0   \n",
       "3        0      0      1      0       0        0        0        0        0   \n",
       "4        0      0      1      0       0        0        0        0        0   \n",
       "..     ...    ...    ...    ...     ...      ...      ...      ...      ...   \n",
       "195      0      0      0      0       1        0        0        0        0   \n",
       "196      0      0      0      0       1        0        0        0        0   \n",
       "197      0      0      0      0       1        0        0        0        0   \n",
       "198      0      0      0      0       1        0        0        0        0   \n",
       "199      0      0      0      0       1        0        0        0        0   \n",
       "\n",
       "     cigar_S  cigar_H  cigar_P  cigar_=  cigar_X  cigar_-1   qual  \n",
       "0          0        0        0        1        0         0  0.323  \n",
       "1          0        0        0        1        0         0  0.290  \n",
       "2          0        0        0        1        0         0  0.312  \n",
       "3          0        0        0        1        0         0  0.312  \n",
       "4          0        0        0        1        0         0  0.312  \n",
       "..       ...      ...      ...      ...      ...       ...    ...  \n",
       "195        0        0        0        0        0         1 -1.000  \n",
       "196        0        0        0        0        0         1 -1.000  \n",
       "197        0        0        0        0        0         1 -1.000  \n",
       "198        0        0        0        0        0         1 -1.000  \n",
       "199        0        0        0        0        0         1 -1.000  \n",
       "\n",
       "[200 rows x 16 columns]"
      ]
     },
     "execution_count": 235,
     "metadata": {},
     "output_type": "execute_result"
    }
   ],
   "source": [
    "extract_features_from_read(data[0])"
   ]
  },
  {
   "cell_type": "code",
   "execution_count": 216,
   "id": "e692d4cb",
   "metadata": {
    "scrolled": true
   },
   "outputs": [
    {
     "data": {
      "text/plain": [
       "(250, 200, 14)"
      ]
     },
     "execution_count": 216,
     "metadata": {},
     "output_type": "execute_result"
    }
   ],
   "source": [
    "X_seq.shape"
   ]
  },
  {
   "cell_type": "code",
   "execution_count": 45,
   "id": "afd8c7a2",
   "metadata": {},
   "outputs": [],
   "source": [
    "if X_seq is None:\n",
    "    X_seq = X_meta"
   ]
  },
  {
   "cell_type": "markdown",
   "id": "01035393",
   "metadata": {},
   "source": [
    "## y Extraction"
   ]
  },
  {
   "cell_type": "code",
   "execution_count": 46,
   "id": "0e477dbf",
   "metadata": {
    "scrolled": true
   },
   "outputs": [
    {
     "data": {
      "text/plain": [
       "1    0.523154\n",
       "0    0.476846\n",
       "dtype: float64"
      ]
     },
     "execution_count": 46,
     "metadata": {},
     "output_type": "execute_result"
    }
   ],
   "source": [
    "y = pd.Series([read.label for read in data])\n",
    "y.value_counts() / y.shape[0]"
   ]
  },
  {
   "cell_type": "markdown",
   "id": "689f3daa",
   "metadata": {},
   "source": [
    "## train-val-test split"
   ]
  },
  {
   "cell_type": "code",
   "execution_count": 47,
   "id": "85db65da",
   "metadata": {},
   "outputs": [
    {
     "data": {
      "text/plain": [
       "(3206, 802, 1002)"
      ]
     },
     "execution_count": 47,
     "metadata": {},
     "output_type": "execute_result"
    }
   ],
   "source": [
    "from sklearn.model_selection import train_test_split\n",
    "X_seq_train, X_seq_test, X_meta_train, X_meta_test, y_train, y_test = train_test_split(X_seq, X_meta, y, test_size = TEST_FRAC)\n",
    "X_seq_train, X_seq_val, X_meta_train, X_meta_val, y_train, y_val = train_test_split(X_seq_train, X_meta_train, y_train, test_size = TEST_FRAC)\n",
    "y_train.shape[0], y_val.shape[0], y_test.shape[0]"
   ]
  },
  {
   "cell_type": "code",
   "execution_count": 48,
   "id": "8abcc044",
   "metadata": {},
   "outputs": [
    {
     "data": {
      "text/plain": [
       "(802, 12)"
      ]
     },
     "execution_count": 48,
     "metadata": {},
     "output_type": "execute_result"
    }
   ],
   "source": [
    "X_meta_val.shape"
   ]
  },
  {
   "cell_type": "markdown",
   "id": "9a571a0d",
   "metadata": {},
   "source": [
    "# Model Selection"
   ]
  },
  {
   "cell_type": "markdown",
   "id": "3db36f7e",
   "metadata": {},
   "source": [
    "## Model choice"
   ]
  },
  {
   "cell_type": "code",
   "execution_count": 49,
   "id": "56dcff6e",
   "metadata": {},
   "outputs": [],
   "source": [
    "from models import *"
   ]
  },
  {
   "cell_type": "markdown",
   "id": "76dfe20b",
   "metadata": {},
   "source": [
    "### Meta"
   ]
  },
  {
   "cell_type": "code",
   "execution_count": 24,
   "id": "ea1cdebb",
   "metadata": {},
   "outputs": [],
   "source": [
    "from models.torch import TorchModel\n",
    "from modules.models import metaSimpleDense, nucSimpleCnn, nucCnnLinear\n",
    "clf = TorchModel(metaSimpleDense(X_meta_train.shape[1]))"
   ]
  },
  {
   "cell_type": "code",
   "execution_count": 50,
   "id": "c0adfce0",
   "metadata": {},
   "outputs": [],
   "source": [
    "from models import XGBModel\n",
    "clf_meta = XGBModel()"
   ]
  },
  {
   "cell_type": "markdown",
   "id": "534b0d77",
   "metadata": {},
   "source": [
    "### Seq"
   ]
  },
  {
   "cell_type": "code",
   "execution_count": null,
   "id": "66f0a32b",
   "metadata": {},
   "outputs": [],
   "source": []
  },
  {
   "cell_type": "markdown",
   "id": "8dc5d740",
   "metadata": {},
   "source": [
    "### Ensemble"
   ]
  },
  {
   "cell_type": "code",
   "execution_count": 239,
   "id": "3fc4e37e",
   "metadata": {},
   "outputs": [],
   "source": [
    "clf_ensemble = XGBModel()"
   ]
  },
  {
   "cell_type": "markdown",
   "id": "81415278",
   "metadata": {},
   "source": [
    "## train Fitting"
   ]
  },
  {
   "cell_type": "code",
   "execution_count": 51,
   "id": "9fa5a61e",
   "metadata": {
    "scrolled": true
   },
   "outputs": [
    {
     "data": {
      "text/html": [
       "<style>#sk-container-id-2 {color: black;background-color: white;}#sk-container-id-2 pre{padding: 0;}#sk-container-id-2 div.sk-toggleable {background-color: white;}#sk-container-id-2 label.sk-toggleable__label {cursor: pointer;display: block;width: 100%;margin-bottom: 0;padding: 0.3em;box-sizing: border-box;text-align: center;}#sk-container-id-2 label.sk-toggleable__label-arrow:before {content: \"▸\";float: left;margin-right: 0.25em;color: #696969;}#sk-container-id-2 label.sk-toggleable__label-arrow:hover:before {color: black;}#sk-container-id-2 div.sk-estimator:hover label.sk-toggleable__label-arrow:before {color: black;}#sk-container-id-2 div.sk-toggleable__content {max-height: 0;max-width: 0;overflow: hidden;text-align: left;background-color: #f0f8ff;}#sk-container-id-2 div.sk-toggleable__content pre {margin: 0.2em;color: black;border-radius: 0.25em;background-color: #f0f8ff;}#sk-container-id-2 input.sk-toggleable__control:checked~div.sk-toggleable__content {max-height: 200px;max-width: 100%;overflow: auto;}#sk-container-id-2 input.sk-toggleable__control:checked~label.sk-toggleable__label-arrow:before {content: \"▾\";}#sk-container-id-2 div.sk-estimator input.sk-toggleable__control:checked~label.sk-toggleable__label {background-color: #d4ebff;}#sk-container-id-2 div.sk-label input.sk-toggleable__control:checked~label.sk-toggleable__label {background-color: #d4ebff;}#sk-container-id-2 input.sk-hidden--visually {border: 0;clip: rect(1px 1px 1px 1px);clip: rect(1px, 1px, 1px, 1px);height: 1px;margin: -1px;overflow: hidden;padding: 0;position: absolute;width: 1px;}#sk-container-id-2 div.sk-estimator {font-family: monospace;background-color: #f0f8ff;border: 1px dotted black;border-radius: 0.25em;box-sizing: border-box;margin-bottom: 0.5em;}#sk-container-id-2 div.sk-estimator:hover {background-color: #d4ebff;}#sk-container-id-2 div.sk-parallel-item::after {content: \"\";width: 100%;border-bottom: 1px solid gray;flex-grow: 1;}#sk-container-id-2 div.sk-label:hover label.sk-toggleable__label {background-color: #d4ebff;}#sk-container-id-2 div.sk-serial::before {content: \"\";position: absolute;border-left: 1px solid gray;box-sizing: border-box;top: 0;bottom: 0;left: 50%;z-index: 0;}#sk-container-id-2 div.sk-serial {display: flex;flex-direction: column;align-items: center;background-color: white;padding-right: 0.2em;padding-left: 0.2em;position: relative;}#sk-container-id-2 div.sk-item {position: relative;z-index: 1;}#sk-container-id-2 div.sk-parallel {display: flex;align-items: stretch;justify-content: center;background-color: white;position: relative;}#sk-container-id-2 div.sk-item::before, #sk-container-id-2 div.sk-parallel-item::before {content: \"\";position: absolute;border-left: 1px solid gray;box-sizing: border-box;top: 0;bottom: 0;left: 50%;z-index: -1;}#sk-container-id-2 div.sk-parallel-item {display: flex;flex-direction: column;z-index: 1;position: relative;background-color: white;}#sk-container-id-2 div.sk-parallel-item:first-child::after {align-self: flex-end;width: 50%;}#sk-container-id-2 div.sk-parallel-item:last-child::after {align-self: flex-start;width: 50%;}#sk-container-id-2 div.sk-parallel-item:only-child::after {width: 0;}#sk-container-id-2 div.sk-dashed-wrapped {border: 1px dashed gray;margin: 0 0.4em 0.5em 0.4em;box-sizing: border-box;padding-bottom: 0.4em;background-color: white;}#sk-container-id-2 div.sk-label label {font-family: monospace;font-weight: bold;display: inline-block;line-height: 1.2em;}#sk-container-id-2 div.sk-label-container {text-align: center;}#sk-container-id-2 div.sk-container {/* jupyter's `normalize.less` sets `[hidden] { display: none; }` but bootstrap.min.css set `[hidden] { display: none !important; }` so we also need the `!important` here to be able to override the default hidden behavior on the sphinx rendered scikit-learn.org. See: https://github.com/scikit-learn/scikit-learn/issues/21755 */display: inline-block !important;position: relative;}#sk-container-id-2 div.sk-text-repr-fallback {display: none;}</style><div id=\"sk-container-id-2\" class=\"sk-top-container\"><div class=\"sk-text-repr-fallback\"><pre>XGBClassifier(base_score=0.5, booster=&#x27;gbtree&#x27;, callbacks=None,\n",
       "              colsample_bylevel=1, colsample_bynode=1, colsample_bytree=1,\n",
       "              early_stopping_rounds=None, enable_categorical=False,\n",
       "              eval_metric=None, gamma=0, gpu_id=-1, grow_policy=&#x27;depthwise&#x27;,\n",
       "              importance_type=None, interaction_constraints=&#x27;&#x27;,\n",
       "              learning_rate=0.300000012, max_bin=256, max_cat_to_onehot=4,\n",
       "              max_delta_step=0, max_depth=6, max_leaves=0, min_child_weight=1,\n",
       "              missing=nan, monotone_constraints=&#x27;()&#x27;, n_estimators=100,\n",
       "              n_jobs=0, num_parallel_tree=1, predictor=&#x27;auto&#x27;, random_state=0,\n",
       "              reg_alpha=0, reg_lambda=1, ...)</pre><b>In a Jupyter environment, please rerun this cell to show the HTML representation or trust the notebook. <br />On GitHub, the HTML representation is unable to render, please try loading this page with nbviewer.org.</b></div><div class=\"sk-container\" hidden><div class=\"sk-item\"><div class=\"sk-estimator sk-toggleable\"><input class=\"sk-toggleable__control sk-hidden--visually\" id=\"sk-estimator-id-2\" type=\"checkbox\" checked><label for=\"sk-estimator-id-2\" class=\"sk-toggleable__label sk-toggleable__label-arrow\">XGBClassifier</label><div class=\"sk-toggleable__content\"><pre>XGBClassifier(base_score=0.5, booster=&#x27;gbtree&#x27;, callbacks=None,\n",
       "              colsample_bylevel=1, colsample_bynode=1, colsample_bytree=1,\n",
       "              early_stopping_rounds=None, enable_categorical=False,\n",
       "              eval_metric=None, gamma=0, gpu_id=-1, grow_policy=&#x27;depthwise&#x27;,\n",
       "              importance_type=None, interaction_constraints=&#x27;&#x27;,\n",
       "              learning_rate=0.300000012, max_bin=256, max_cat_to_onehot=4,\n",
       "              max_delta_step=0, max_depth=6, max_leaves=0, min_child_weight=1,\n",
       "              missing=nan, monotone_constraints=&#x27;()&#x27;, n_estimators=100,\n",
       "              n_jobs=0, num_parallel_tree=1, predictor=&#x27;auto&#x27;, random_state=0,\n",
       "              reg_alpha=0, reg_lambda=1, ...)</pre></div></div></div></div></div>"
      ],
      "text/plain": [
       "XGBClassifier(base_score=0.5, booster='gbtree', callbacks=None,\n",
       "              colsample_bylevel=1, colsample_bynode=1, colsample_bytree=1,\n",
       "              early_stopping_rounds=None, enable_categorical=False,\n",
       "              eval_metric=None, gamma=0, gpu_id=-1, grow_policy='depthwise',\n",
       "              importance_type=None, interaction_constraints='',\n",
       "              learning_rate=0.300000012, max_bin=256, max_cat_to_onehot=4,\n",
       "              max_delta_step=0, max_depth=6, max_leaves=0, min_child_weight=1,\n",
       "              missing=nan, monotone_constraints='()', n_estimators=100,\n",
       "              n_jobs=0, num_parallel_tree=1, predictor='auto', random_state=0,\n",
       "              reg_alpha=0, reg_lambda=1, ...)"
      ]
     },
     "execution_count": 51,
     "metadata": {},
     "output_type": "execute_result"
    }
   ],
   "source": [
    "clf_meta.fit(X_meta_train, y_train)"
   ]
  },
  {
   "cell_type": "code",
   "execution_count": 241,
   "id": "279cf600",
   "metadata": {},
   "outputs": [
    {
     "ename": "NameError",
     "evalue": "name 'clf_seq' is not defined",
     "output_type": "error",
     "traceback": [
      "\u001b[0;31m---------------------------------------------------------------------------\u001b[0m",
      "\u001b[0;31mNameError\u001b[0m                                 Traceback (most recent call last)",
      "Input \u001b[0;32mIn [241]\u001b[0m, in \u001b[0;36m<cell line: 1>\u001b[0;34m()\u001b[0m\n\u001b[0;32m----> 1\u001b[0m \u001b[43mclf_seq\u001b[49m\u001b[38;5;241m.\u001b[39mfit(X_meta_train, y_train, learning_rate\u001b[38;5;241m=\u001b[39m\u001b[38;5;241m0.001\u001b[39m, epochs\u001b[38;5;241m=\u001b[39m\u001b[38;5;241m3\u001b[39m)\n",
      "\u001b[0;31mNameError\u001b[0m: name 'clf_seq' is not defined"
     ]
    }
   ],
   "source": [
    "clf_seq.fit(X_meta_train, y_train, learning_rate=0.001, epochs=3)"
   ]
  },
  {
   "cell_type": "markdown",
   "id": "0e30d991",
   "metadata": {},
   "source": [
    "### Val Fitting"
   ]
  },
  {
   "cell_type": "code",
   "execution_count": 53,
   "id": "02bf4d59",
   "metadata": {},
   "outputs": [
    {
     "ename": "NameError",
     "evalue": "name 'clf_ensemble' is not defined",
     "output_type": "error",
     "traceback": [
      "\u001b[0;31m---------------------------------------------------------------------------\u001b[0m",
      "\u001b[0;31mNameError\u001b[0m                                 Traceback (most recent call last)",
      "Input \u001b[0;32mIn [53]\u001b[0m, in \u001b[0;36m<cell line: 1>\u001b[0;34m()\u001b[0m\n\u001b[0;32m----> 1\u001b[0m \u001b[43mclf_ensemble\u001b[49m\u001b[38;5;241m.\u001b[39mfit(X_val, y_val)\n",
      "\u001b[0;31mNameError\u001b[0m: name 'clf_ensemble' is not defined"
     ]
    }
   ],
   "source": [
    "clf_ensemble.fit(X_val, y_val)#, learning_rate=0.001, epochs=3)"
   ]
  },
  {
   "cell_type": "markdown",
   "id": "72153462",
   "metadata": {},
   "source": [
    "## Predict"
   ]
  },
  {
   "cell_type": "code",
   "execution_count": 54,
   "id": "3e653c89",
   "metadata": {},
   "outputs": [],
   "source": [
    "y_pred_meta = clf.predict_proba(X_meta_test)[:,1]"
   ]
  },
  {
   "cell_type": "code",
   "execution_count": 55,
   "id": "fd39b18e",
   "metadata": {},
   "outputs": [],
   "source": [
    "y_pred = y_pred_meta"
   ]
  },
  {
   "cell_type": "markdown",
   "id": "b215b73e",
   "metadata": {},
   "source": [
    "# Evaluation"
   ]
  },
  {
   "cell_type": "code",
   "execution_count": 56,
   "id": "4edadc9b",
   "metadata": {},
   "outputs": [
    {
     "name": "stdout",
     "output_type": "stream",
     "text": [
      "at 0.0 acc is 0.52 prec is 0.52 rec is 1.0 f1_score is 0.68\n",
      "at 0.05 acc is 0.52 prec is 0.52 rec is 1.0 f1_score is 0.68\n",
      "at 0.1 acc is 0.52 prec is 0.52 rec is 1.0 f1_score is 0.68\n",
      "at 0.15 acc is 0.52 prec is 0.52 rec is 1.0 f1_score is 0.68\n",
      "at 0.2 acc is 0.52 prec is 0.52 rec is 1.0 f1_score is 0.68\n",
      "at 0.25 acc is 0.52 prec is 0.52 rec is 1.0 f1_score is 0.68\n",
      "at 0.3 acc is 0.52 prec is 0.52 rec is 1.0 f1_score is 0.68\n",
      "at 0.35 acc is 0.52 prec is 0.52 rec is 1.0 f1_score is 0.68\n",
      "at 0.4 acc is 0.52 prec is 0.52 rec is 1.0 f1_score is 0.68\n",
      "at 0.45 acc is 0.52 prec is 0.54 rec is 0.48 f1_score is 0.51\n",
      "at 0.5 acc is 0.49 prec is 0.75 rec is 0.01 f1_score is 0.01\n",
      "at 0.55 acc is 0.48 prec is 0.0 rec is 0.0 f1_score is 0.0\n",
      "at 0.6 acc is 0.48 prec is 0.0 rec is 0.0 f1_score is 0.0\n",
      "at 0.65 acc is 0.48 prec is 0.0 rec is 0.0 f1_score is 0.0\n",
      "at 0.7 acc is 0.48 prec is 0.0 rec is 0.0 f1_score is 0.0\n",
      "at 0.75 acc is 0.48 prec is 0.0 rec is 0.0 f1_score is 0.0\n",
      "at 0.8 acc is 0.48 prec is 0.0 rec is 0.0 f1_score is 0.0\n",
      "at 0.85 acc is 0.48 prec is 0.0 rec is 0.0 f1_score is 0.0\n",
      "at 0.9 acc is 0.48 prec is 0.0 rec is 0.0 f1_score is 0.0\n",
      "at 0.95 acc is 0.48 prec is 0.0 rec is 0.0 f1_score is 0.0\n"
     ]
    }
   ],
   "source": [
    "from sklearn.metrics import accuracy_score, precision_score, recall_score, f1_score\n",
    "for th in np.arange(20)/20:\n",
    "    print(f'''at {th} acc is {np.round(accuracy_score(y_test, (y_pred > th)),2)} prec is {np.round(precision_score(y_test, (y_pred > th)),2)} rec is {np.round(recall_score(y_test, (y_pred > th)),2)} f1_score is {np.round(f1_score(y_test, (y_pred > th)),2)}''')"
   ]
  },
  {
   "cell_type": "code",
   "execution_count": 60,
   "id": "49b4a31c",
   "metadata": {},
   "outputs": [
    {
     "data": {
      "text/plain": [
       "<sklearn.metrics._plot.roc_curve.RocCurveDisplay at 0x7fec0d7e9870>"
      ]
     },
     "execution_count": 60,
     "metadata": {},
     "output_type": "execute_result"
    },
    {
     "data": {
      "image/png": "[encoded data removed]",
      "text/plain": [
       "<Figure size 432x288 with 1 Axes>"
      ]
     },
     "metadata": {
      "needs_background": "light"
     },
     "output_type": "display_data"
    },
    {
     "data": {
      "image/png": "[encoded data removed]",
      "text/plain": [
       "<Figure size 432x288 with 1 Axes>"
      ]
     },
     "metadata": {
      "needs_background": "light"
     },
     "output_type": "display_data"
    }
   ],
   "source": [
    "from sklearn.metrics import plot_precision_recall_curve, plot_roc_curve\n",
    "plot_precision_recall_curve(clf_meta, X_meta_test, y_test)\n",
    "plot_roc_curve(clf_meta, X_meta_test, y_test)"
   ]
  },
  {
   "cell_type": "code",
   "execution_count": 58,
   "id": "c5df39a1",
   "metadata": {},
   "outputs": [
    {
     "data": {
      "text/plain": [
       "0.6816084377059987"
      ]
     },
     "execution_count": 58,
     "metadata": {},
     "output_type": "execute_result"
    }
   ],
   "source": [
    "final_metric(y_test, y_pred)"
   ]
  },
  {
   "cell_type": "code",
   "execution_count": null,
   "id": "e9e5492b",
   "metadata": {},
   "outputs": [],
   "source": []
  },
  {
   "cell_type": "markdown",
   "id": "92a88053",
   "metadata": {},
   "source": [
    "# Playground"
   ]
  },
  {
   "cell_type": "code",
   "execution_count": 59,
   "id": "753d0a72",
   "metadata": {},
   "outputs": [
    {
     "data": {
      "image/png": "[encoded data removed]",
      "text/plain": [
       "<Figure size 432x288 with 1 Axes>"
      ]
     },
     "metadata": {
      "needs_background": "light"
     },
     "output_type": "display_data"
    },
    {
     "data": {
      "image/png": "[encoded data removed]",
      "text/plain": [
       "<Figure size 432x288 with 1 Axes>"
      ]
     },
     "metadata": {
      "needs_background": "light"
     },
     "output_type": "display_data"
    },
    {
     "data": {
      "image/png": "[encoded data removed]",
      "text/plain": [
       "<Figure size 432x288 with 1 Axes>"
      ]
     },
     "metadata": {
      "needs_background": "light"
     },
     "output_type": "display_data"
    },
    {
     "data": {
      "image/png": "[encoded data removed]",
      "text/plain": [
       "<Figure size 432x288 with 1 Axes>"
      ]
     },
     "metadata": {
      "needs_background": "light"
     },
     "output_type": "display_data"
    },
    {
     "data": {
      "image/png": "[encoded data removed]",
      "text/plain": [
       "<Figure size 432x288 with 1 Axes>"
      ]
     },
     "metadata": {
      "needs_background": "light"
     },
     "output_type": "display_data"
    },
    {
     "data": {
      "image/png": "[encoded data removed]",
      "text/plain": [
       "<Figure size 432x288 with 1 Axes>"
      ]
     },
     "metadata": {
      "needs_background": "light"
     },
     "output_type": "display_data"
    },
    {
     "data": {
      "image/png": "[encoded data removed]",
      "text/plain": [
       "<Figure size 432x288 with 1 Axes>"
      ]
     },
     "metadata": {
      "needs_background": "light"
     },
     "output_type": "display_data"
    },
    {
     "data": {
      "image/png": "[encoded data removed]",
      "text/plain": [
       "<Figure size 432x288 with 1 Axes>"
      ]
     },
     "metadata": {
      "needs_background": "light"
     },
     "output_type": "display_data"
    },
    {
     "data": {
      "image/png": "[encoded data removed]",
      "text/plain": [
       "<Figure size 432x288 with 1 Axes>"
      ]
     },
     "metadata": {
      "needs_background": "light"
     },
     "output_type": "display_data"
    },
    {
     "data": {
      "image/png": "[encoded data removed]",
      "text/plain": [
       "<Figure size 432x288 with 1 Axes>"
      ]
     },
     "metadata": {
      "needs_background": "light"
     },
     "output_type": "display_data"
    },
    {
     "data": {
      "image/png": "[encoded data removed]",
      "text/plain": [
       "<Figure size 432x288 with 1 Axes>"
      ]
     },
     "metadata": {
      "needs_background": "light"
     },
     "output_type": "display_data"
    },
    {
     "data": {
      "image/png": "[encoded data removed]",
      "text/plain": [
       "<Figure size 432x288 with 1 Axes>"
      ]
     },
     "metadata": {
      "needs_background": "light"
     },
     "output_type": "display_data"
    }
   ],
   "source": [
    "def print_feature(x,y):\n",
    "    plt.title(x.name) \n",
    "    for label in [0,1]:\n",
    "        plt.hist(x[y==label], alpha = 0.5, label = label)\n",
    "    plt.legend()\n",
    "    plt.show()\n",
    "\n",
    "def save_feature_histogram(x,y, title):\n",
    "    hist_0, bin_edges_0 = np.histogram(x[y==0])\n",
    "    hist_1, bin_edges_1 = np.histogram(x[y==1])\n",
    "    pd.DataFrame({\n",
    "        'bins_healthy': bin_edges_0[1:],\n",
    "        'hist_healthy': hist_0,\n",
    "        'bins_somatic': bin_edges_1[1:],\n",
    "        'hist_somatic': hist_1\n",
    "    }\n",
    "    ).to_excel(PLOTS_DIR / f\"histogram__{title}.xlsx\")\n",
    "    \n",
    "\\\n",
    "for col in X_meta_train.columns:\n",
    "    print_feature(X_meta_train[col], y_train)"
   ]
  },
  {
   "cell_type": "code",
   "execution_count": null,
   "id": "d75af7fa",
   "metadata": {},
   "outputs": [],
   "source": []
  }
 ],
 "metadata": {
  "kernelspec": {
   "display_name": "Python 3 (ipykernel)",
   "language": "python",
   "name": "python3"
  },
  "language_info": {
   "codemirror_mode": {
    "name": "ipython",
    "version": 3
   },
   "file_extension": ".py",
   "mimetype": "text/x-python",
   "name": "python",
   "nbconvert_exporter": "python",
   "pygments_lexer": "ipython3",
   "version": "3.10.4"
  }
 },
 "nbformat": 4,
 "nbformat_minor": 5
}
